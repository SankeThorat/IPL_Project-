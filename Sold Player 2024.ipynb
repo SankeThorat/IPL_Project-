{
 "cells": [
  {
   "cell_type": "code",
   "execution_count": 2,
   "id": "d4dd5b8a",
   "metadata": {},
   "outputs": [],
   "source": [
    "import pandas as pd\n",
    "import matplotlib.pyplot as plt\n",
    "import seaborn as sns"
   ]
  },
  {
   "cell_type": "code",
   "execution_count": 3,
   "id": "d2480279",
   "metadata": {},
   "outputs": [],
   "source": [
    "df=pd.read_csv(\"IPL 2024 SOLD PLAYER DATA ANALYSIS(1).csv\")"
   ]
  },
  {
   "cell_type": "code",
   "execution_count": 4,
   "id": "04cf4d3d",
   "metadata": {
    "scrolled": true
   },
   "outputs": [
    {
     "data": {
      "text/html": [
       "<div>\n",
       "<style scoped>\n",
       "    .dataframe tbody tr th:only-of-type {\n",
       "        vertical-align: middle;\n",
       "    }\n",
       "\n",
       "    .dataframe tbody tr th {\n",
       "        vertical-align: top;\n",
       "    }\n",
       "\n",
       "    .dataframe thead th {\n",
       "        text-align: right;\n",
       "    }\n",
       "</style>\n",
       "<table border=\"1\" class=\"dataframe\">\n",
       "  <thead>\n",
       "    <tr style=\"text-align: right;\">\n",
       "      <th></th>\n",
       "      <th>S_No</th>\n",
       "      <th>PLAYERS</th>\n",
       "      <th>NATIONALITY</th>\n",
       "      <th>TYPE</th>\n",
       "      <th>PRICE</th>\n",
       "      <th>TEAM</th>\n",
       "    </tr>\n",
       "  </thead>\n",
       "  <tbody>\n",
       "    <tr>\n",
       "      <th>0</th>\n",
       "      <td>0</td>\n",
       "      <td>Avanish Rao Aravelly</td>\n",
       "      <td>Indian</td>\n",
       "      <td>Wicket-Keeper</td>\n",
       "      <td>2000000</td>\n",
       "      <td>CSK</td>\n",
       "    </tr>\n",
       "    <tr>\n",
       "      <th>1</th>\n",
       "      <td>1</td>\n",
       "      <td>Mustafizur Rahman</td>\n",
       "      <td>Overseas</td>\n",
       "      <td>Bowler</td>\n",
       "      <td>20000000</td>\n",
       "      <td>CSK</td>\n",
       "    </tr>\n",
       "    <tr>\n",
       "      <th>2</th>\n",
       "      <td>2</td>\n",
       "      <td>Daryl Mitchell</td>\n",
       "      <td>Overseas</td>\n",
       "      <td>All-Rounder</td>\n",
       "      <td>140000000</td>\n",
       "      <td>CSK</td>\n",
       "    </tr>\n",
       "    <tr>\n",
       "      <th>3</th>\n",
       "      <td>3</td>\n",
       "      <td>Sameer Rizvi</td>\n",
       "      <td>Indian</td>\n",
       "      <td>Batter</td>\n",
       "      <td>84000000</td>\n",
       "      <td>CSK</td>\n",
       "    </tr>\n",
       "    <tr>\n",
       "      <th>4</th>\n",
       "      <td>4</td>\n",
       "      <td>Rachin Ravindra</td>\n",
       "      <td>Overseas</td>\n",
       "      <td>All-Rounder</td>\n",
       "      <td>18000000</td>\n",
       "      <td>CSK</td>\n",
       "    </tr>\n",
       "    <tr>\n",
       "      <th>...</th>\n",
       "      <td>...</td>\n",
       "      <td>...</td>\n",
       "      <td>...</td>\n",
       "      <td>...</td>\n",
       "      <td>...</td>\n",
       "      <td>...</td>\n",
       "    </tr>\n",
       "    <tr>\n",
       "      <th>327</th>\n",
       "      <td>255</td>\n",
       "      <td>Kamlesh Nagarkoti</td>\n",
       "      <td>Indian</td>\n",
       "      <td>All-Rounder</td>\n",
       "      <td>3000000</td>\n",
       "      <td>Un-Sold</td>\n",
       "    </tr>\n",
       "    <tr>\n",
       "      <th>328</th>\n",
       "      <td>256</td>\n",
       "      <td>Basil Thampi</td>\n",
       "      <td>Indian</td>\n",
       "      <td>Bowler</td>\n",
       "      <td>3000000</td>\n",
       "      <td>Un-Sold</td>\n",
       "    </tr>\n",
       "    <tr>\n",
       "      <th>329</th>\n",
       "      <td>257</td>\n",
       "      <td>Lalit Yadav</td>\n",
       "      <td>Indian</td>\n",
       "      <td>Bowler</td>\n",
       "      <td>3000000</td>\n",
       "      <td>Un-Sold</td>\n",
       "    </tr>\n",
       "    <tr>\n",
       "      <th>330</th>\n",
       "      <td>258</td>\n",
       "      <td>S Midhun</td>\n",
       "      <td>Indian</td>\n",
       "      <td>Bowler</td>\n",
       "      <td>3000000</td>\n",
       "      <td>Un-Sold</td>\n",
       "    </tr>\n",
       "    <tr>\n",
       "      <th>331</th>\n",
       "      <td>259</td>\n",
       "      <td>Izharulhuq Naveed</td>\n",
       "      <td>Overseas</td>\n",
       "      <td>Bowler</td>\n",
       "      <td>3000000</td>\n",
       "      <td>Un-Sold</td>\n",
       "    </tr>\n",
       "  </tbody>\n",
       "</table>\n",
       "<p>332 rows × 6 columns</p>\n",
       "</div>"
      ],
      "text/plain": [
       "     S_No               PLAYERS NATIONALITY           TYPE      PRICE     TEAM\n",
       "0       0  Avanish Rao Aravelly      Indian  Wicket-Keeper    2000000      CSK\n",
       "1       1     Mustafizur Rahman    Overseas         Bowler   20000000      CSK\n",
       "2       2        Daryl Mitchell    Overseas    All-Rounder  140000000      CSK\n",
       "3       3          Sameer Rizvi      Indian         Batter   84000000      CSK\n",
       "4       4       Rachin Ravindra    Overseas    All-Rounder   18000000      CSK\n",
       "..    ...                   ...         ...            ...        ...      ...\n",
       "327   255     Kamlesh Nagarkoti      Indian    All-Rounder    3000000  Un-Sold\n",
       "328   256          Basil Thampi      Indian         Bowler    3000000  Un-Sold\n",
       "329   257           Lalit Yadav      Indian         Bowler    3000000  Un-Sold\n",
       "330   258              S Midhun      Indian         Bowler    3000000  Un-Sold\n",
       "331   259     Izharulhuq Naveed    Overseas         Bowler    3000000  Un-Sold\n",
       "\n",
       "[332 rows x 6 columns]"
      ]
     },
     "execution_count": 4,
     "metadata": {},
     "output_type": "execute_result"
    }
   ],
   "source": [
    "df"
   ]
  },
  {
   "cell_type": "code",
   "execution_count": null,
   "id": "82918c2f",
   "metadata": {},
   "outputs": [],
   "source": [
    "# Data Exploration"
   ]
  },
  {
   "cell_type": "code",
   "execution_count": 5,
   "id": "86ae6638",
   "metadata": {},
   "outputs": [],
   "source": [
    "# 1.How many players are there in total?"
   ]
  },
  {
   "cell_type": "code",
   "execution_count": 6,
   "id": "973ffcdd",
   "metadata": {},
   "outputs": [],
   "source": [
    "total_players = df.shape[0]"
   ]
  },
  {
   "cell_type": "code",
   "execution_count": 7,
   "id": "18409a92",
   "metadata": {},
   "outputs": [
    {
     "name": "stdout",
     "output_type": "stream",
     "text": [
      "\n",
      "Total number of players: 332\n"
     ]
    }
   ],
   "source": [
    "print(f\"\\nTotal number of players: {total_players}\")"
   ]
  },
  {
   "cell_type": "code",
   "execution_count": 8,
   "id": "cf37d90d",
   "metadata": {},
   "outputs": [],
   "source": [
    "# 2.How many players are Indian vs Overseas?"
   ]
  },
  {
   "cell_type": "code",
   "execution_count": 9,
   "id": "fbdd353e",
   "metadata": {},
   "outputs": [],
   "source": [
    "# Q3: Average price of all players"
   ]
  },
  {
   "cell_type": "code",
   "execution_count": 10,
   "id": "b9881938",
   "metadata": {},
   "outputs": [],
   "source": [
    "avg_price = df['PRICE'].mean()"
   ]
  },
  {
   "cell_type": "code",
   "execution_count": 11,
   "id": "611a7065",
   "metadata": {},
   "outputs": [
    {
     "data": {
      "text/plain": [
       "10093373.493975904"
      ]
     },
     "execution_count": 11,
     "metadata": {},
     "output_type": "execute_result"
    }
   ],
   "source": [
    "avg_price"
   ]
  },
  {
   "cell_type": "code",
   "execution_count": 12,
   "id": "fdc2eaa7",
   "metadata": {},
   "outputs": [],
   "source": [
    "# Q4: Unique player types"
   ]
  },
  {
   "cell_type": "code",
   "execution_count": 13,
   "id": "be85fd96",
   "metadata": {},
   "outputs": [],
   "source": [
    "unique_types = df['TYPE'].unique().tolist()"
   ]
  },
  {
   "cell_type": "code",
   "execution_count": 14,
   "id": "9c37c685",
   "metadata": {},
   "outputs": [
    {
     "data": {
      "text/plain": [
       "['Wicket-Keeper', 'Bowler', 'All-Rounder', 'Batter']"
      ]
     },
     "execution_count": 14,
     "metadata": {},
     "output_type": "execute_result"
    }
   ],
   "source": [
    "unique_types"
   ]
  },
  {
   "cell_type": "code",
   "execution_count": 15,
   "id": "3c62194c",
   "metadata": {},
   "outputs": [],
   "source": [
    "# Q5: Team with the most players"
   ]
  },
  {
   "cell_type": "code",
   "execution_count": 16,
   "id": "2fb17a18",
   "metadata": {},
   "outputs": [],
   "source": [
    "team_most_players = df['TEAM'].value_counts().idxmax()\n",
    "team_most_players_count = df['TEAM'].value_counts().max()"
   ]
  },
  {
   "cell_type": "code",
   "execution_count": 17,
   "id": "2a6ad6ed",
   "metadata": {},
   "outputs": [
    {
     "data": {
      "text/plain": [
       "260"
      ]
     },
     "execution_count": 17,
     "metadata": {},
     "output_type": "execute_result"
    }
   ],
   "source": [
    "team_most_players\n",
    "team_most_players_count"
   ]
  },
  {
   "cell_type": "code",
   "execution_count": 18,
   "id": "64d804dc",
   "metadata": {},
   "outputs": [],
   "source": [
    "# 📊 Grouping and Aggregation"
   ]
  },
  {
   "cell_type": "code",
   "execution_count": 19,
   "id": "16135988",
   "metadata": {},
   "outputs": [],
   "source": [
    "# Q6: Total amount spent by each team"
   ]
  },
  {
   "cell_type": "code",
   "execution_count": 20,
   "id": "ad659a6b",
   "metadata": {},
   "outputs": [],
   "source": [
    "team_total_spent = df.groupby('TEAM')['PRICE'].sum().sort_values(ascending=False)"
   ]
  },
  {
   "cell_type": "code",
   "execution_count": 21,
   "id": "9b907d9a",
   "metadata": {},
   "outputs": [
    {
     "data": {
      "text/plain": [
       "TEAM\n",
       "Un-Sold    1046500000\n",
       "KKR         313500000\n",
       "SH          308000000\n",
       "CSK         304000000\n",
       "GT          303000000\n",
       "PK          249500000\n",
       "RCB         204000000\n",
       "DC          190500000\n",
       "MI          167000000\n",
       "RR          143000000\n",
       "LSG         122000000\n",
       "Name: PRICE, dtype: int64"
      ]
     },
     "execution_count": 21,
     "metadata": {},
     "output_type": "execute_result"
    }
   ],
   "source": [
    "team_total_spent"
   ]
  },
  {
   "cell_type": "code",
   "execution_count": 22,
   "id": "4b8b0cd6",
   "metadata": {},
   "outputs": [],
   "source": [
    "# Q7: Team that spent the most money overall\n"
   ]
  },
  {
   "cell_type": "code",
   "execution_count": 23,
   "id": "3853f788",
   "metadata": {},
   "outputs": [],
   "source": [
    "team_highest_spender = team_total_spent.idxmax()\n",
    "team_highest_spent_amount = team_total_spent.max()"
   ]
  },
  {
   "cell_type": "code",
   "execution_count": 24,
   "id": "a6bcb99f",
   "metadata": {},
   "outputs": [
    {
     "data": {
      "text/plain": [
       "1046500000"
      ]
     },
     "execution_count": 24,
     "metadata": {},
     "output_type": "execute_result"
    }
   ],
   "source": [
    "team_highest_spender\n",
    "team_highest_spent_amount"
   ]
  },
  {
   "cell_type": "code",
   "execution_count": 25,
   "id": "52c655bc",
   "metadata": {},
   "outputs": [],
   "source": [
    "# Q8: Average price of Indian vs Overseas players"
   ]
  },
  {
   "cell_type": "code",
   "execution_count": 26,
   "id": "f105b507",
   "metadata": {},
   "outputs": [],
   "source": [
    "avg_price_by_nationality = df.groupby('NATIONALITY')['PRICE'].mean()"
   ]
  },
  {
   "cell_type": "code",
   "execution_count": 27,
   "id": "9a24447f",
   "metadata": {},
   "outputs": [
    {
     "data": {
      "text/plain": [
       "NATIONALITY\n",
       "Indian      5.400463e+06\n",
       "Overseas    1.883190e+07\n",
       "Name: PRICE, dtype: float64"
      ]
     },
     "execution_count": 27,
     "metadata": {},
     "output_type": "execute_result"
    }
   ],
   "source": [
    "avg_price_by_nationality"
   ]
  },
  {
   "cell_type": "code",
   "execution_count": 28,
   "id": "611bb791",
   "metadata": {},
   "outputs": [],
   "source": [
    "# Q9: Count of each player type"
   ]
  },
  {
   "cell_type": "code",
   "execution_count": 29,
   "id": "d7e29c43",
   "metadata": {},
   "outputs": [],
   "source": [
    "type_counts = df['TYPE'].value_counts()"
   ]
  },
  {
   "cell_type": "code",
   "execution_count": 30,
   "id": "5647f49f",
   "metadata": {},
   "outputs": [
    {
     "data": {
      "text/plain": [
       "TYPE\n",
       "Bowler           128\n",
       "All-Rounder      114\n",
       "Batter            53\n",
       "Wicket-Keeper     37\n",
       "Name: count, dtype: int64"
      ]
     },
     "execution_count": 30,
     "metadata": {},
     "output_type": "execute_result"
    }
   ],
   "source": [
    "type_counts"
   ]
  },
  {
   "cell_type": "code",
   "execution_count": 31,
   "id": "0934e4f1",
   "metadata": {},
   "outputs": [],
   "source": [
    "# Q10: Average price of each player type"
   ]
  },
  {
   "cell_type": "code",
   "execution_count": 32,
   "id": "8bf9a017",
   "metadata": {},
   "outputs": [],
   "source": [
    "avg_price_by_type = df.groupby('TYPE')['PRICE'].mean().sort_values(ascending=False)"
   ]
  },
  {
   "cell_type": "code",
   "execution_count": 33,
   "id": "213aa734",
   "metadata": {},
   "outputs": [
    {
     "data": {
      "text/plain": [
       "TYPE\n",
       "Batter           1.166981e+07\n",
       "Bowler           1.051172e+07\n",
       "All-Rounder      9.934211e+06\n",
       "Wicket-Keeper    6.878378e+06\n",
       "Name: PRICE, dtype: float64"
      ]
     },
     "execution_count": 33,
     "metadata": {},
     "output_type": "execute_result"
    }
   ],
   "source": [
    "avg_price_by_type"
   ]
  },
  {
   "cell_type": "code",
   "execution_count": 34,
   "id": "497633c5",
   "metadata": {},
   "outputs": [],
   "source": [
    "# 🔍 Filtering and Sorting"
   ]
  },
  {
   "cell_type": "code",
   "execution_count": 35,
   "id": "826b68e0",
   "metadata": {},
   "outputs": [],
   "source": [
    "# Problem 11: Players bought for more than ₹5 crores (50,000,000)"
   ]
  },
  {
   "cell_type": "code",
   "execution_count": 36,
   "id": "989c028b",
   "metadata": {},
   "outputs": [
    {
     "name": "stdout",
     "output_type": "stream",
     "text": [
      "\n",
      "Players bought for more than ₹5 crores:\n",
      "            PLAYERS      PRICE TEAM\n",
      "2    Daryl Mitchell  140000000  CSK\n",
      "3      Sameer Rizvi   84000000  CSK\n",
      "12   Kumar Kushagra   72000000   DC\n",
      "16  Spencer Johnson  100000000   GT\n",
      "21    Shahrukh Khan   74000000   GT\n",
      "22      Umesh Yadav   58000000   GT\n",
      "27   Mitchell Starc  247500000  KKR\n",
      "36      Shivam Mavi   64000000  LSG\n",
      "52    Rilee Rossouw   80000000   PK\n",
      "54    Harshal Patel  117500000   PK\n",
      "55    Shubham Dubey   58000000   RR\n",
      "56    Rovman Powell   74000000   RR\n",
      "63   Alzarri Joseph  115000000  RCB\n",
      "70      Pat Cummins  205000000   SH\n",
      "71      Travis Head   68000000   SH\n"
     ]
    }
   ],
   "source": [
    "expensive_players = df[df['PRICE'] > 50000000]\n",
    "print(\"\\nPlayers bought for more than ₹5 crores:\")\n",
    "print(expensive_players[['PLAYERS', 'PRICE', 'TEAM']])"
   ]
  },
  {
   "cell_type": "code",
   "execution_count": 37,
   "id": "bf43f58d",
   "metadata": {},
   "outputs": [],
   "source": [
    "# Problem 12: Most expensive player"
   ]
  },
  {
   "cell_type": "code",
   "execution_count": 38,
   "id": "41bef746",
   "metadata": {},
   "outputs": [
    {
     "name": "stdout",
     "output_type": "stream",
     "text": [
      "\n",
      "Most expensive player:\n",
      "           PLAYERS      PRICE TEAM\n",
      "27  Mitchell Starc  247500000  KKR\n"
     ]
    }
   ],
   "source": [
    "most_expensive_player = df[df['PRICE'] == df['PRICE'].max()]\n",
    "print(\"\\nMost expensive player:\")\n",
    "print(most_expensive_player[['PLAYERS', 'PRICE', 'TEAM']])"
   ]
  },
  {
   "cell_type": "code",
   "execution_count": 39,
   "id": "ea67a1ac",
   "metadata": {},
   "outputs": [],
   "source": [
    "# Problem 13: Team with most overseas players"
   ]
  },
  {
   "cell_type": "code",
   "execution_count": 40,
   "id": "28345b7c",
   "metadata": {},
   "outputs": [
    {
     "name": "stdout",
     "output_type": "stream",
     "text": [
      "\n",
      "Team with most overseas players: Un-Sold\n"
     ]
    }
   ],
   "source": [
    "overseas_counts = df[df['NATIONALITY'] == 'Overseas']['TEAM'].value_counts()\n",
    "team_most_overseas = overseas_counts.idxmax()\n",
    "print(\"\\nTeam with most overseas players:\", team_most_overseas)"
   ]
  },
  {
   "cell_type": "code",
   "execution_count": 41,
   "id": "8e53786c",
   "metadata": {},
   "outputs": [],
   "source": [
    "# Problem 14: Wicket-Keepers with their teams and prices"
   ]
  },
  {
   "cell_type": "code",
   "execution_count": 42,
   "id": "bbe4b1be",
   "metadata": {},
   "outputs": [
    {
     "name": "stdout",
     "output_type": "stream",
     "text": [
      "\n",
      "Wicket-Keepers:\n",
      "                  PLAYERS     TEAM     PRICE\n",
      "0    Avanish Rao Aravelly      CSK   2000000\n",
      "6              Ricky Bhui       DC   2000000\n",
      "10              Shai Hope       DC   7500000\n",
      "12         Kumar Kushagra       DC  72000000\n",
      "13         Tristan Stubbs       DC   5000000\n",
      "18             Robin Minz       GT  36000000\n",
      "30            K.S. Bharat      KKR   5000000\n",
      "59     Tom Kohler-Cadmore       RR   4000000\n",
      "80            Urvil Patel  Un-Sold   2000000\n",
      "81         Vishnu Solanki  Un-Sold   2000000\n",
      "161         Mohit Ahlawat  Un-Sold   2000000\n",
      "162            G. Ajitesh  Un-Sold   2000000\n",
      "163          L.R. Chethan  Un-Sold   2000000\n",
      "164      Gourav Choudhary  Un-Sold   2000000\n",
      "165          Harvik Desai  Un-Sold   2000000\n",
      "166         Shakir Gandhi  Un-Sold   2000000\n",
      "167    Sumit Ghadigaonkar  Un-Sold   2000000\n",
      "168        Baba Indrajith  Un-Sold   2000000\n",
      "169     Bhagmender Lather  Un-Sold   2000000\n",
      "170        Anmol Malhotra  Un-Sold   2000000\n",
      "171         Darshan Misal  Un-Sold   2000000\n",
      "172           Nikhil Naik  Un-Sold   2000000\n",
      "173          Prasad Pawar  Un-Sold   2000000\n",
      "174        Mahesh Pithiya  Un-Sold   2000000\n",
      "175         Bipin Saurabh  Un-Sold   2000000\n",
      "176          B.R. Sharath  Un-Sold   2000000\n",
      "177         K.L. Shrijith  Un-Sold   2000000\n",
      "178         Avneesh Sudha  Un-Sold   2000000\n",
      "179           Aditya Tare  Un-Sold   2000000\n",
      "180           Nihal Ullal  Un-Sold   2000000\n",
      "238      William Salzmann  Un-Sold   2000000\n",
      "247           Josh Inglis  Un-Sold  20000000\n",
      "254           Ben Duckett  Un-Sold  20000000\n",
      "255           Philip Salt  Un-Sold  15000000\n",
      "266          Sam Billings  Un-Sold  10000000\n",
      "282          Kusal Mendis  Un-Sold   5000000\n",
      "307       Johnson Charles  Un-Sold   5000000\n"
     ]
    }
   ],
   "source": [
    "wicket_keepers = df[df['TYPE'] == 'Wicket-Keeper'][['PLAYERS', 'TEAM', 'PRICE']]\n",
    "print(\"\\nWicket-Keepers:\")\n",
    "print(wicket_keepers)"
   ]
  },
  {
   "cell_type": "code",
   "execution_count": 43,
   "id": "6989899a",
   "metadata": {},
   "outputs": [],
   "source": [
    "# Problem 15: Top 3 most expensive Indian players"
   ]
  },
  {
   "cell_type": "code",
   "execution_count": 44,
   "id": "ae77630d",
   "metadata": {},
   "outputs": [
    {
     "name": "stdout",
     "output_type": "stream",
     "text": [
      "\n",
      "Top 3 most expensive Indian players:\n",
      "          PLAYERS      PRICE TEAM\n",
      "54  Harshal Patel  117500000   PK\n",
      "3    Sameer Rizvi   84000000  CSK\n",
      "21  Shahrukh Khan   74000000   GT\n"
     ]
    }
   ],
   "source": [
    "top_3_indian = df[df['NATIONALITY'] == 'Indian'].nlargest(3, 'PRICE')\n",
    "print(\"\\nTop 3 most expensive Indian players:\")\n",
    "print(top_3_indian[['PLAYERS', 'PRICE', 'TEAM']])"
   ]
  },
  {
   "cell_type": "code",
   "execution_count": 45,
   "id": "d8f612fd",
   "metadata": {},
   "outputs": [],
   "source": [
    "#🧠 Advanced/Insightful"
   ]
  },
  {
   "cell_type": "code",
   "execution_count": 46,
   "id": "2fc7a9a7",
   "metadata": {},
   "outputs": [],
   "source": [
    "# Problem 16: Team spending per player on average"
   ]
  },
  {
   "cell_type": "code",
   "execution_count": 47,
   "id": "e8540887",
   "metadata": {},
   "outputs": [
    {
     "name": "stdout",
     "output_type": "stream",
     "text": [
      "\n",
      "Average spent per player by team:\n",
      "TEAM\n",
      "SH         5.133333e+07\n",
      "CSK        5.066667e+07\n",
      "GT         3.787500e+07\n",
      "RCB        3.400000e+07\n",
      "KKR        3.135000e+07\n",
      "PK         3.118750e+07\n",
      "RR         2.860000e+07\n",
      "DC         2.116667e+07\n",
      "MI         2.087500e+07\n",
      "LSG        2.033333e+07\n",
      "Un-Sold    4.025000e+06\n",
      "Name: PRICE, dtype: float64\n"
     ]
    }
   ],
   "source": [
    "avg_spent_per_team = df.groupby('TEAM')['PRICE'].mean().sort_values(ascending=False)\n",
    "print(\"\\nAverage spent per player by team:\")\n",
    "print(avg_spent_per_team)"
   ]
  },
  {
   "cell_type": "code",
   "execution_count": 48,
   "id": "da91ff76",
   "metadata": {},
   "outputs": [],
   "source": [
    "# Problem 17: Number of players by type for each team"
   ]
  },
  {
   "cell_type": "code",
   "execution_count": 49,
   "id": "ca28ef40",
   "metadata": {},
   "outputs": [
    {
     "name": "stdout",
     "output_type": "stream",
     "text": [
      "\n",
      "Number of players by type for each team:\n",
      "TYPE     All-Rounder  Batter  Bowler  Wicket-Keeper\n",
      "TEAM                                               \n",
      "CSK                3       1       1              1\n",
      "DC                 1       2       2              4\n",
      "GT                 2       0       5              1\n",
      "KKR                1       3       5              1\n",
      "LSG                3       1       2              0\n",
      "MI                 5       0       3              0\n",
      "PK                 5       2       1              0\n",
      "RCB                2       1       3              0\n",
      "RR                 1       2       1              1\n",
      "SH                 2       1       3              0\n",
      "Un-Sold           89      40     102             29\n"
     ]
    }
   ],
   "source": [
    "players_by_type = df.groupby(['TEAM', 'TYPE']).size().unstack(fill_value=0)\n",
    "print(\"\\nNumber of players by type for each team:\")\n",
    "print(players_by_type)"
   ]
  },
  {
   "cell_type": "code",
   "execution_count": 50,
   "id": "7df20724",
   "metadata": {},
   "outputs": [],
   "source": [
    "# Problem 18: Percentage of overseas players in each team"
   ]
  },
  {
   "cell_type": "code",
   "execution_count": 51,
   "id": "ccdd9dc1",
   "metadata": {},
   "outputs": [
    {
     "name": "stdout",
     "output_type": "stream",
     "text": [
      "\n",
      "Percentage of overseas players in each team:\n",
      "TEAM\n",
      "RR         60.000000\n",
      "CSK        50.000000\n",
      "MI         50.000000\n",
      "RCB        50.000000\n",
      "SH         50.000000\n",
      "DC         44.444444\n",
      "KKR        40.000000\n",
      "LSG        33.333333\n",
      "Un-Sold    33.076923\n",
      "GT         25.000000\n",
      "PK         25.000000\n",
      "dtype: float64\n"
     ]
    }
   ],
   "source": [
    "def overseas_percentage(team_df):\n",
    "    total = team_df.shape[0]\n",
    "    overseas = team_df[team_df['NATIONALITY'] == 'Overseas'].shape[0]\n",
    "    return (overseas / total) * 100\n",
    "overseas_percent = df.groupby('TEAM').apply(overseas_percentage).sort_values(ascending=False)\n",
    "print(\"\\nPercentage of overseas players in each team:\")\n",
    "print(overseas_percent)"
   ]
  },
  {
   "cell_type": "code",
   "execution_count": 52,
   "id": "b4cb3a29",
   "metadata": {},
   "outputs": [],
   "source": [
    "# Problem 19: Cheapest overseas player"
   ]
  },
  {
   "cell_type": "code",
   "execution_count": 53,
   "id": "f81b49ea",
   "metadata": {},
   "outputs": [
    {
     "name": "stdout",
     "output_type": "stream",
     "text": [
      "\n",
      "Cheapest overseas player:\n",
      "                PLAYERS    PRICE     TEAM\n",
      "235  Jake Fraser-Mcgurk  2000000  Un-Sold\n"
     ]
    }
   ],
   "source": [
    "cheapest_overseas = df[df['NATIONALITY'] == 'Overseas'].nsmallest(1, 'PRICE')\n",
    "print(\"\\nCheapest overseas player:\")\n",
    "print(cheapest_overseas[['PLAYERS', 'PRICE', 'TEAM']])"
   ]
  },
  {
   "cell_type": "code",
   "execution_count": 54,
   "id": "a0356bc3",
   "metadata": {},
   "outputs": [],
   "source": [
    "# Problem 20: Visualize the distribution of player prices"
   ]
  },
  {
   "cell_type": "code",
   "execution_count": 55,
   "id": "287e4930",
   "metadata": {},
   "outputs": [
    {
     "data": {
      "image/png": "[encoded data removed]",
      "text/plain": [
       "<Figure size 1000x600 with 1 Axes>"
      ]
     },
     "metadata": {},
     "output_type": "display_data"
    }
   ],
   "source": [
    "plt.figure(figsize=(10, 6))\n",
    "sns.histplot(df['PRICE'], bins=20, kde=True)\n",
    "plt.title('Distribution of Player Prices')\n",
    "plt.xlabel('Price (₹)')\n",
    "plt.ylabel('Number of Players')\n",
    "plt.tight_layout()\n",
    "plt.show()\n"
   ]
  },
  {
   "cell_type": "code",
   "execution_count": null,
   "id": "b43ab27f",
   "metadata": {},
   "outputs": [],
   "source": []
  }
 ],
 "metadata": {
  "kernelspec": {
   "display_name": "Python 3 (ipykernel)",
   "language": "python",
   "name": "python3"
  },
  "language_info": {
   "codemirror_mode": {
    "name": "ipython",
    "version": 3
   },
   "file_extension": ".py",
   "mimetype": "text/x-python",
   "name": "python",
   "nbconvert_exporter": "python",
   "pygments_lexer": "ipython3",
   "version": "3.11.5"
  }
 },
 "nbformat": 4,
 "nbformat_minor": 5
}
